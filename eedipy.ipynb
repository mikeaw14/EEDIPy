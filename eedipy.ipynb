{
 "cells": [
  {
   "cell_type": "code",
   "execution_count": null,
   "metadata": {},
   "outputs": [],
   "source": [
    "import numpy as np\n",
    "import pandas as pd\n",
    "import matplotlib.pyplot as plt\n",
    "from helper_functions import *"
   ]
  },
  {
   "cell_type": "markdown",
   "metadata": {},
   "source": [
    "# Prep data"
   ]
  },
  {
   "cell_type": "markdown",
   "metadata": {},
   "source": [
    "## Import"
   ]
  },
  {
   "cell_type": "code",
   "execution_count": null,
   "metadata": {},
   "outputs": [],
   "source": [
    "#change the homepath to the directory \"EEDIPy\" has been cloned to\n",
    "homepath = 'F:/projects/EEDIPy/'\n",
    "# inpt = pd.read_excel(homepath + 'inputs_new.xlsx')"
   ]
  },
  {
   "cell_type": "markdown",
   "metadata": {},
   "source": [
    "### Verification"
   ]
  },
  {
   "cell_type": "code",
   "execution_count": null,
   "metadata": {},
   "outputs": [],
   "source": [
    "#un-comment verifications you want to run\n",
    "#mepc 79\n",
    "# inpt = pd.read_excel(homepath + 'verifications/mepc_79_1.xlsx')\n",
    "# inpt = pd.read_excel(homepath + 'verifications/mepc_79_2.xlsx')\n",
    "# inpt = pd.read_excel(homepath + 'verifications/mepc_79_3.xlsx')\n",
    "# inpt = pd.read_excel(homepath + 'verifications/mepc_79_4.xlsx')\n",
    "# inpt = pd.read_excel(homepath + 'verifications/mepc_79_5.xlsx')\n",
    "\n",
    "#publication 103P\n",
    "# inpt = pd.read_excel(homepath + 'verifications/pr_38_rev4_1.xlsx')\n",
    "# inpt = pd.read_excel(homepath + 'verifications/pr_38_rev4_2.xlsx')\n",
    "# inpt = pd.read_excel(homepath + 'verifications/pr_38_rev4_3.xlsx')\n",
    "# inpt = pd.read_excel(homepath + 'verifications/pr_38_rev4_4.xlsx')\n",
    "# inpt = pd.read_excel(homepath + 'verifications/pr_38_rev4_5.xlsx')\n",
    "# inpt = pd.read_excel(homepath + 'verifications/pr_38_rev4_6.xlsx')\n",
    "# inpt = pd.read_excel(homepath + 'verifications/pr_38_rev4_app_6_1.xlsx')\n",
    "# inpt = pd.read_excel(homepath + 'verifications/pr_38_rev4_app_6_2.xlsx')\n",
    "# inpt = pd.read_excel(homepath + 'verifications/pr_38_rev4_app_6_3.xlsx')\n",
    "\n",
    "#examples\n",
    "# inpt = pd.read_excel(homepath + 'examples/mepc_79_1_innovative.xlsx')\n"
   ]
  },
  {
   "cell_type": "markdown",
   "metadata": {},
   "source": [
    "## Variables"
   ]
  },
  {
   "cell_type": "code",
   "execution_count": null,
   "metadata": {},
   "outputs": [],
   "source": [
    "#main variables\n",
    "df_inpt = load_variables(inpt)\n",
    "\n",
    "#cf dictionary\n",
    "cf_dict = load_cf_dict(inpt)\n",
    "\n",
    "#me data\n",
    "df_me = load_me_data(inpt, df_inpt)\n",
    "mcr_me = df_me['mcr'].sum()\n",
    "p_me = df_me['p_me'].sum()\n",
    "\n",
    "#ae data\n",
    "df_ae = load_ae_data(inpt)\n"
   ]
  },
  {
   "cell_type": "markdown",
   "metadata": {},
   "source": [
    "# Calculation"
   ]
  },
  {
   "cell_type": "markdown",
   "metadata": {},
   "source": [
    "## Derived inputs"
   ]
  },
  {
   "cell_type": "code",
   "execution_count": null,
   "metadata": {},
   "outputs": [],
   "source": [
    "#sfc\n",
    "df_me, df_ae = calculate_sfc(df_me, df_ae, cf_dict)\n",
    "\n",
    "#cf\n",
    "df_me, df_ae = calculate_cf(df_me, df_ae, cf_dict)\n",
    "\n",
    "# if df_inpt['ship_type'].iloc[0] == 'cruise_ship':\n",
    "#     df_inpt['dwt'] = df_inpt['gt'].iloc[0].copy()\n",
    "    \n",
    "capacity = capacity_calc(dwt = df_inpt['dwt'].iloc[0],\n",
    "                         ship_type = df_inpt['ship_type'].iloc[0])\n",
    "\n",
    "disp_t = df_inpt['disp_m3'].iloc[0] * 1.025\n"
   ]
  },
  {
   "cell_type": "markdown",
   "metadata": {},
   "source": [
    "## Pae"
   ]
  },
  {
   "cell_type": "code",
   "execution_count": null,
   "metadata": {},
   "outputs": [],
   "source": [
    "sfc_me_df = df_me.loc[df_me['engine_type']=='dual_fuel',['sfc_pilot_fuel','sfc_gas_fuel']].sum().sum()\n",
    "\n",
    "if df_inpt['hload'].iloc[0] == 0:\n",
    "    p_ae = p_ae_iterative_calc(ship_type = df_inpt['ship_type'].iloc[0],\n",
    "                               mcr_me = mcr_me,\n",
    "                               me_type = df_inpt['propulsion_type'].iloc[0],\n",
    "                               p_sm_rated = df_inpt['p_sm_rated'].iloc[0],\n",
    "                               mpp = df_inpt['mpp'].iloc[0],\n",
    "                               p_pto_rated = df_inpt['p_pto_rated'].iloc[0],\n",
    "                               cube = df_inpt['cube'].iloc[0],\n",
    "                               me_engine_stroke = df_inpt['me_engine_stroke'].iloc[0],\n",
    "                               sfc_me_gas_mode = sfc_me_df,\n",
    "                               electrical_eff = df_inpt['electrical_eff'].iloc[0],  \n",
    "                               gen_efficiency = df_inpt['gen_efficiency'].iloc[0],\n",
    "                               pti_eff = df_inpt['pti_eff'].iloc[0],\n",
    "                               bor = df_inpt['bor'].iloc[0],\n",
    "                               cop_cooling = df_inpt['cop_cooling'].iloc[0],\n",
    "                               r_reliq = df_inpt['r_reliq'].iloc[0],\n",
    "                               cop_comp = df_inpt['cop_comp'].iloc[0],                               \n",
    "                               add_load = df_inpt['p_ae_eff_al'].iloc[0],\n",
    "                               )    \n",
    "    \n",
    "elif df_inpt['hload'].iloc[0] > 0:\n",
    "    p_ae = df_inpt['hload'].iloc[0] / df_inpt['gen_efficiency'].iloc[0]"
   ]
  },
  {
   "cell_type": "markdown",
   "metadata": {},
   "source": [
    "## PTO"
   ]
  },
  {
   "cell_type": "code",
   "execution_count": null,
   "metadata": {},
   "outputs": [],
   "source": [
    "#pto calculation power\n",
    "p_pto = p_pto_calc(p_pto_rated=df_inpt['p_pto_rated'].iloc[0],\n",
    "                   me_type=df_inpt['propulsion_type'].iloc[0])\n",
    "\n",
    "p_pto_remove_me, p_ae_calc = pto_pae_ratio(df_inpt, df_me, df_ae, p_ae, p_pto)\n",
    "    \n",
    "df_me['pto_remove'] = p_pto_remove_me\n",
    "df_ae['p_ae_calc'] = p_ae_calc\n",
    "\n",
    "#if using engine limitation, pto calculation option 2 is used\n",
    "if sum(df_me['limited_power']) > 0:\n",
    "    df_me['p_me_calc'] = df_me['p_me']\n",
    "else:\n",
    "    df_me['p_me_calc'] = df_me['p_me'] - df_me['pto_remove']\n",
    "\n",
    "if df_inpt['mpp'].iloc[0] == 0:\n",
    "    p_me = df_me['p_me_calc'].sum()\n",
    "elif (df_inpt['mpp'].iloc[0] > 0) and (df_inpt['ship_type'].iloc[0] == 'cruise_ship'):\n",
    "    p_me = 0\n"
   ]
  },
  {
   "cell_type": "markdown",
   "metadata": {},
   "source": [
    "## PTI"
   ]
  },
  {
   "cell_type": "code",
   "execution_count": null,
   "metadata": {},
   "outputs": [],
   "source": [
    "if df_inpt['mpp'].iloc[0] == 0:\n",
    "    p_pti = shaft_motor_power(p_sm_rated = df_inpt['p_sm_rated'].iloc[0],\n",
    "                            me_type = df_inpt['propulsion_type'].iloc[0],\n",
    "                            mpp = df_inpt['mpp'].iloc[0],\n",
    "                            gen_efficiency = df_inpt['gen_efficiency'].iloc[0],\n",
    "                            pti_eff = df_inpt['pti_eff'].iloc[0])[0]\n",
    "\n",
    "    p_pti_shaft = shaft_motor_power(p_sm_rated = df_inpt['p_sm_rated'].iloc[0],\n",
    "                                    me_type = df_inpt['propulsion_type'].iloc[0],\n",
    "                                    mpp = df_inpt['mpp'].iloc[0],\n",
    "                                    gen_efficiency = df_inpt['gen_efficiency'].iloc[0],\n",
    "                                    pti_eff = df_inpt['pti_eff'].iloc[0])[1]\n",
    "elif (df_inpt['mpp'].iloc[0] > 0) & (df_inpt['ship_type'].iloc[0] == 'cruise_ship'):\n",
    "    p_pti = shaft_motor_power(p_sm_rated = df_inpt['mpp'].iloc[0],\n",
    "                              me_type = df_inpt['propulsion_type'].iloc[0],\n",
    "                              mpp = df_inpt['mpp'].iloc[0],\n",
    "                              gen_efficiency = df_inpt['gen_efficiency'].iloc[0],\n",
    "                             pti_eff = df_inpt['pti_eff'].iloc[0])[0]\n",
    "\n",
    "    p_pti_shaft = shaft_motor_power(p_sm_rated = df_inpt['mpp'].iloc[0],\n",
    "                                    me_type = df_inpt['propulsion_type'].iloc[0],\n",
    "                                    mpp = df_inpt['mpp'].iloc[0],\n",
    "                                    gen_efficiency = df_inpt['gen_efficiency'].iloc[0],\n",
    "                                    pti_eff = df_inpt['pti_eff'].iloc[0])[1]\n",
    "else:\n",
    "    p_pti = 0\n",
    "    p_pti_shaft = 0\n",
    "\n",
    "p_me_deduct = p_me + p_pti_shaft - p_pto_remove_me\n",
    "\n",
    "v_ref = update_vref(df_inpt, p_me_deduct)\n"
   ]
  },
  {
   "cell_type": "markdown",
   "metadata": {},
   "source": [
    "## Fuel ratio"
   ]
  },
  {
   "cell_type": "code",
   "execution_count": null,
   "metadata": {},
   "outputs": [],
   "source": [
    "fd_gas, df_me, df_ae = fuel_ratio_calc(df_inpt, df_me, df_ae)"
   ]
  },
  {
   "cell_type": "markdown",
   "metadata": {},
   "source": [
    "## Gather terms"
   ]
  },
  {
   "cell_type": "code",
   "execution_count": null,
   "metadata": {},
   "outputs": [],
   "source": [
    "#me and pto terms\n",
    "cf_sfc_me, me_term, pto_term, df_me = me_term_calc(df_me)\n",
    "if np.isnan(cf_sfc_me):\n",
    "    cf_sfc_me = np.nan_to_num(cf_sfc_me)\n",
    "#ae term\n",
    "cf_sfc_ae, ae_term, df_ae = ae_term_calc(df_ae, cf_sfc_me)"
   ]
  },
  {
   "cell_type": "markdown",
   "metadata": {},
   "source": [
    "## Innovative"
   ]
  },
  {
   "cell_type": "code",
   "execution_count": null,
   "metadata": {},
   "outputs": [],
   "source": [
    "c_1_val = cat_c1(w_e = df_inpt['w_e'].iloc[0],\n",
    "                 eta_g = df_inpt['eta_g'].iloc[0],\n",
    "                 p_ae_eff_loss = df_inpt['p_ae_eff_loss'].iloc[0])\n",
    "\n",
    "c_2_val = cat_c2(f_temp = df_inpt['f_temp'].iloc[0],\n",
    "                 p_max = df_inpt['p_max'].iloc[0],\n",
    "                 etad_gen = df_inpt['etad_gen'].iloc[0],\n",
    "                 n = df_inpt['n'].iloc[0],\n",
    "                 f_rad = 0.2,\n",
    "                 l_others = 10)\n",
    "\n",
    "p_eff = cat_b1_short(p_p_eff_al = df_inpt['p_p_eff_al'].iloc[0],\n",
    "                     p_ae_eff_al = df_inpt['p_ae_eff_al'].iloc[0],\n",
    "                     p_me = p_me,\n",
    "                     p_pti_shaft = p_pti_shaft,\n",
    "                     cf_sfc_me = cf_sfc_me, cf_sfc_ae = cf_sfc_ae)[0]\n",
    "\n",
    "cf_sfc_me_pti = cat_b1_short(p_p_eff_al = df_inpt['p_p_eff_al'].iloc[0],\n",
    "                             p_ae_eff_al = df_inpt['p_ae_eff_al'].iloc[0],\n",
    "                             p_me = p_me, p_pti_shaft = p_pti_shaft,\n",
    "                             cf_sfc_me = cf_sfc_me, cf_sfc_ae = cf_sfc_ae)[1]\n",
    "\n",
    "\n",
    "b1_term = p_eff * cf_sfc_me_pti"
   ]
  },
  {
   "cell_type": "markdown",
   "metadata": {},
   "source": [
    "## Correction factors"
   ]
  },
  {
   "cell_type": "code",
   "execution_count": null,
   "metadata": {},
   "outputs": [],
   "source": [
    "\"\"\"\n",
    "fj\n",
    "    for ice-classed ships\n",
    "    shuttle tankers with propulsion redundancy\n",
    "    ro-ro cargo and ro-ro passenger ships\n",
    "    general cargo ships\n",
    "fi\n",
    "    ice class\n",
    "    structural enhancement - use not from standard\n",
    "    common structural rules\n",
    "fc\n",
    "    chemical tankers as defined in regulation 1.16.1 of MARPOL Annex II\n",
    "    gas carriers having direct diesel driven propulsion system constructed or adapted and used\n",
    "        for the carriage in bulk of liquefied natural gas\n",
    "    For ro-ro passenger ships having a DWT/GT-ratio of less than 0.25\n",
    "    For bulk carriers having R of less than 0.55\n",
    "fl\n",
    "    general cargo ships equipped with cranes and other cargo-related gear\n",
    "fw\n",
    "    Factor for speed reduction at sea\n",
    "fm\n",
    "    For ice-classed ships having IA Super or IA\n",
    "\"\"\""
   ]
  },
  {
   "cell_type": "markdown",
   "metadata": {},
   "source": [
    "### fj"
   ]
  },
  {
   "cell_type": "code",
   "execution_count": null,
   "metadata": {},
   "outputs": [],
   "source": [
    "fj_term = fj(ship_type=df_inpt['ship_type'].iloc[0],\n",
    "             ice_class=df_inpt['ice_class'].iloc[0],\n",
    "             mcr=mcr_me,\n",
    "             dwt=df_inpt['dwt'].iloc[0],\n",
    "             propulsion_redundancy=df_inpt['propulsion_redundancy'].iloc[0],\n",
    "             l=df_inpt['lpp'].iloc[0],\n",
    "             b=df_inpt['b'].iloc[0],\n",
    "             d=df_inpt['ds'].iloc[0],\n",
    "             disp_m3=df_inpt['disp_m3'].iloc[0],\n",
    "             v_ref=v_ref,\n",
    "             g=9.81)"
   ]
  },
  {
   "cell_type": "markdown",
   "metadata": {},
   "source": [
    "### fi"
   ]
  },
  {
   "cell_type": "code",
   "execution_count": null,
   "metadata": {},
   "outputs": [],
   "source": [
    "fi_term = fi(ship_type=df_inpt['ship_type'].iloc[0],\n",
    "             csr=df_inpt['csr'].iloc[0],\n",
    "             ice_class=df_inpt['ice_class'].iloc[0],\n",
    "             dwt=df_inpt['dwt'].iloc[0],\n",
    "             l=df_inpt['lpp'].iloc[0],\n",
    "             b=df_inpt['b'].iloc[0],\n",
    "             d=df_inpt['ds'].iloc[0],\n",
    "             disp_m3=df_inpt['disp_m3'].iloc[0],\n",
    "             disp_t=disp_t,\n",
    "             lwt_ref=df_inpt['lwt_ref'].iloc[0],\n",
    "             lwt_enhance=df_inpt['lwt_enhance'].iloc[0],\n",
    "             lwt_csr=df_inpt['lwt_csr'].iloc[0],\n",
    "             dwt_csr=df_inpt['dwt_csr'].iloc[0])"
   ]
  },
  {
   "cell_type": "markdown",
   "metadata": {},
   "source": [
    "### fc"
   ]
  },
  {
   "cell_type": "code",
   "execution_count": null,
   "metadata": {},
   "outputs": [],
   "source": [
    "fc_term = fc(ship_type=df_inpt['ship_type'].iloc[0],\n",
    "             dwt=capacity,\n",
    "             cube=df_inpt['cube'].iloc[0],\n",
    "             diesel_direct_drive=df_inpt['diesel_direct_drive'].iloc[0],\n",
    "             marpol_annex=df_inpt['marpol_annex'].iloc[0],\n",
    "             gt=df_inpt['gt'].iloc[0])"
   ]
  },
  {
   "cell_type": "markdown",
   "metadata": {},
   "source": [
    "### fl"
   ]
  },
  {
   "cell_type": "code",
   "execution_count": null,
   "metadata": {},
   "outputs": [],
   "source": [
    "fl_term = fl(ship_type=df_inpt['ship_type'].iloc[0],\n",
    "             dwt_ref=df_inpt['dwt'].iloc[0],\n",
    "             number_of_cranes=df_inpt['number_of_cranes'].iloc[0],\n",
    "             swl_crane=df_inpt['swl_crane'].iloc[0],\n",
    "             reach_crane=df_inpt['reach_crane'].iloc[0],\n",
    "             side_loader_weight=df_inpt['side_loader_weight'].iloc[0],\n",
    "             roro_weight=df_inpt['roro_weight'].iloc[0])"
   ]
  },
  {
   "cell_type": "markdown",
   "metadata": {},
   "source": [
    "### fw"
   ]
  },
  {
   "cell_type": "code",
   "execution_count": null,
   "metadata": {},
   "outputs": [],
   "source": [
    "fw_term = 1"
   ]
  },
  {
   "cell_type": "markdown",
   "metadata": {},
   "source": [
    "### fm"
   ]
  },
  {
   "cell_type": "code",
   "execution_count": null,
   "metadata": {},
   "outputs": [],
   "source": [
    "fm_term = fm(ice_class=df_inpt['ice_class'].iloc[0])"
   ]
  },
  {
   "cell_type": "markdown",
   "metadata": {},
   "source": [
    "## PTI term"
   ]
  },
  {
   "cell_type": "code",
   "execution_count": null,
   "metadata": {},
   "outputs": [],
   "source": [
    "if df_ae['ae_term'].sum() == 0:\n",
    "    pti_term = 0\n",
    "    pti_and_c_term = 0\n",
    "else:\n",
    "    pti_term = (fj_term * p_pti)* cf_sfc_ae\n",
    "    pti_and_c_term = ((fj_term * p_pti) - (c_1_val + c_2_val))* cf_sfc_ae"
   ]
  },
  {
   "cell_type": "markdown",
   "metadata": {},
   "source": [
    "# Final EEDI"
   ]
  },
  {
   "cell_type": "markdown",
   "metadata": {},
   "source": [
    "## Check values"
   ]
  },
  {
   "cell_type": "code",
   "execution_count": null,
   "metadata": {},
   "outputs": [],
   "source": [
    "print('P me term = {:.0f}'.format(p_me))\n",
    "print('CFme x SFC me = {:.0f}'.format(cf_sfc_me))\n",
    "print('P ae term = {:.0f}'.format(p_ae))\n",
    "print('CFae x SFC ae = {:.0f}'.format(cf_sfc_ae))\n",
    "print('pto power off shaft = {:.0f}'.format(p_pto_remove_me * len(df_me)))\n",
    "print('pti power on shaft = {:.0f}'.format(p_pti_shaft))"
   ]
  },
  {
   "cell_type": "code",
   "execution_count": null,
   "metadata": {},
   "outputs": [],
   "source": [
    "print('gas ratio = {:.4f}'.format(fd_gas))"
   ]
  },
  {
   "cell_type": "code",
   "execution_count": null,
   "metadata": {},
   "outputs": [],
   "source": [
    "print('fj term = {:.2f}'.format(fj_term))\n",
    "print('me term = {:.0f}'.format(me_term))\n",
    "print('pto term = {:.0f}'.format(pto_term))\n",
    "print('ae term = {:.0f}'.format(ae_term))\n",
    "print('pti term = {:.0f}'.format(pti_term))\n",
    "print('fi term = {:.2f}'.format(fi_term))\n",
    "print('fc term = {:.2f}'.format(fc_term))\n",
    "print('fl term = {:.2f}'.format(fl_term))\n",
    "print('capacity = {:.0f}'.format(capacity))\n",
    "print('fw term = {:.2f}'.format(fw_term))\n",
    "print('v ref = {:.2f}'.format(v_ref))\n",
    "print('fm term = {:.2f}'.format(fm_term))"
   ]
  },
  {
   "cell_type": "markdown",
   "metadata": {},
   "source": [
    "## EEDI"
   ]
  },
  {
   "cell_type": "code",
   "execution_count": null,
   "metadata": {},
   "outputs": [],
   "source": [
    "eedi_no_tech = ((fj_term * me_term + pto_term + ae_term + pti_term)\n",
    "                / (fi_term * fc_term * fl_term * capacity * fw_term * v_ref * fm_term))\n",
    "\n",
    "eedi_with_tech = ((fj_term * me_term + pto_term + ae_term + pti_and_c_term - b1_term)\n",
    "                  / (fi_term * fc_term * fl_term * capacity * fw_term * v_ref * fm_term))\n",
    "\n",
    "print('EEDI (no energy saving tech) = {:.2f}'.format(eedi_no_tech))\n",
    "print('EEDI (with energy saving tech) = {:.2f}'.format(eedi_with_tech))"
   ]
  },
  {
   "cell_type": "markdown",
   "metadata": {},
   "source": [
    "# Plot"
   ]
  },
  {
   "cell_type": "markdown",
   "metadata": {},
   "source": [
    "## EEDI Reference Line"
   ]
  },
  {
   "cell_type": "code",
   "execution_count": null,
   "metadata": {},
   "outputs": [],
   "source": [
    "#import plotting references\n",
    "ref_eq_df = pd.read_csv(homepath + 'resources/plotting_curves.csv')\n",
    "df_reduct = pd.read_csv(homepath + 'resources/reduction_table.csv')\n",
    "gt = 120000 #only required for roro_cargo_vehicle ships\n",
    "dwt = capacity.copy()"
   ]
  },
  {
   "cell_type": "code",
   "execution_count": null,
   "metadata": {},
   "outputs": [],
   "source": [
    "#fill in missing data in ref_eq_df based on ship parameters\n",
    "if df_inpt['ship_type'].iloc[0] == 'roro_cargo_vehicle':\n",
    "    ref_eq_df = roro_plot_calc(ref_eq_df, dwt, gt) \n",
    "     \n",
    "ref_eq_df['b'] = dwt\n",
    "dwt_lim = df_reduct[df_reduct['ship_type']==df_inpt['ship_type'].iloc[0]]\n",
    "\n",
    "phase_1_frac, phase_2_frac, phase_3_frac = phase_frac_calc(dwt, dwt_lim)"
   ]
  },
  {
   "cell_type": "markdown",
   "metadata": {},
   "source": [
    "## Output"
   ]
  },
  {
   "cell_type": "code",
   "execution_count": null,
   "metadata": {},
   "outputs": [],
   "source": [
    "#create reference lines for plotting\n",
    "ref_line_df = pd.DataFrame({'dwt':np.arange(100,dwt*2,100)})\n",
    "ref_line_df['phase_0'] = ref_eq_df['a'][ref_eq_df['ship_type']==df_inpt['ship_type'].iloc[0]].item() \\\n",
    "    * ref_line_df['dwt'] \\\n",
    "    ** (-1* ref_eq_df['c'][ref_eq_df['ship_type']==df_inpt['ship_type'].iloc[0]].item())\n",
    "ref_line_df['phase_1'] = (1 - (phase_1_frac) / 100) * ref_line_df['phase_0'] \n",
    "ref_line_df['phase_2'] = (1 - (phase_2_frac) / 100) * ref_line_df['phase_0'] \n",
    "ref_line_df['phase_3'] = (1 - (phase_3_frac) / 100) * ref_line_df['phase_0'] \n"
   ]
  },
  {
   "cell_type": "code",
   "execution_count": null,
   "metadata": {},
   "outputs": [],
   "source": [
    "#plot\n",
    "plt.figure(figsize=(12,8))\n",
    "plt.scatter(dwt, eedi_no_tech, label='eedi without energy saving tech = {:.2f}'.format(eedi_no_tech), s=100)\n",
    "plt.scatter(dwt, eedi_with_tech, label='eedi with energy saving tech = {:.2f}'.format(eedi_with_tech), s=100)\n",
    "\n",
    "plt.plot(ref_line_df['dwt'], ref_line_df['phase_0'],\n",
    "            label = 'phase 0 reference line')\n",
    "plt.plot(ref_line_df['dwt'], ref_line_df['phase_1'],\n",
    "            label = 'phase 1 reference line')\n",
    "plt.plot(ref_line_df['dwt'], ref_line_df['phase_2'],\n",
    "            label = 'phase 2 reference line')\n",
    "plt.plot(ref_line_df['dwt'], ref_line_df['phase_3'],\n",
    "            label = 'phase 3 reference line')\n",
    "\n",
    "plt.xlim(0, dwt*1.8)\n",
    "plt.ylim(0,5 * round(eedi_no_tech / 5) * 2)\n",
    "\n",
    "if df_inpt['ship_type'].iloc[0] == 'cruise_ship':\n",
    "    plt.xlabel('Capacity [GT]')\n",
    "else:\n",
    "    plt.xlabel('Capacity [DWT]')\n",
    "plt.ylabel('EEDI')\n",
    "plt.title('Calculated EEDI')\n",
    "\n",
    "plt.legend()\n",
    "plt.grid()"
   ]
  }
 ],
 "metadata": {
  "kernelspec": {
   "display_name": ".venv",
   "language": "python",
   "name": "python3"
  },
  "language_info": {
   "codemirror_mode": {
    "name": "ipython",
    "version": 3
   },
   "file_extension": ".py",
   "mimetype": "text/x-python",
   "name": "python",
   "nbconvert_exporter": "python",
   "pygments_lexer": "ipython3",
   "version": "3.11.6"
  }
 },
 "nbformat": 4,
 "nbformat_minor": 2
}
